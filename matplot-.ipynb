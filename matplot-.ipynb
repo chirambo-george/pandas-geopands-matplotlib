{
 "cells": [
  {
   "cell_type": "code",
   "execution_count": 125,
   "metadata": {},
   "outputs": [],
   "source": [
    "import matplotlib.pyplot as plt\n",
    "import pandas as pd\n",
    "\n",
    "from random import uniform, randint, randrange, sample"
   ]
  },
  {
   "cell_type": "markdown",
   "metadata": {},
   "source": [
    "NUMPY DATA CREATION"
   ]
  },
  {
   "cell_type": "code",
   "execution_count": 126,
   "metadata": {},
   "outputs": [
    {
     "data": {
      "text/plain": [
       "18.87723883455048"
      ]
     },
     "execution_count": 126,
     "metadata": {},
     "output_type": "execute_result"
    }
   ],
   "source": [
    "# UNIFORM - getting a uniform random number between 10 and 20\n",
    "uniform(10,20)"
   ]
  },
  {
   "cell_type": "code",
   "execution_count": 127,
   "metadata": {},
   "outputs": [],
   "source": [
    "# # can be used to create fake coordinates like this \n",
    "# x = uniform(-180, 180)\n",
    "# y = uniform(-90, 90)\n",
    "# x,y"
   ]
  },
  {
   "cell_type": "code",
   "execution_count": 153,
   "metadata": {},
   "outputs": [
    {
     "data": {
      "text/plain": [
       "[(81.08862221578141, 48.50138619580548),\n",
       " (-131.57904542899945, -16.254829326949647),\n",
       " (6.3084308508452125, -45.47951417874052),\n",
       " (17.832573347147758, 38.630683124463104),\n",
       " (-170.35540413280734, -83.21452904103967),\n",
       " (-37.817169503606124, 3.135819126072022),\n",
       " (-12.224995102503613, 88.37632338569662),\n",
       " (-161.23643270144234, 64.23851018100493),\n",
       " (51.98738788705208, 39.0017077571745),\n",
       " (-87.6106165892404, 66.95704169920995)]"
      ]
     },
     "execution_count": 153,
     "metadata": {},
     "output_type": "execute_result"
    }
   ],
   "source": [
    "def create_coord():\n",
    "    x, y = uniform(-180, 180), uniform(-90, 90)     \n",
    "    return x, y\n",
    "    \n",
    "geom = [create_coord() for xy in range(10)]\n",
    "geom\n",
    "    "
   ]
  },
  {
   "cell_type": "code",
   "execution_count": 154,
   "metadata": {},
   "outputs": [
    {
     "data": {
      "text/plain": [
       "('A', 'B', 'C', 'D', 'E', 'F', 'G', 'H', 'I', 'J')"
      ]
     },
     "execution_count": 154,
     "metadata": {},
     "output_type": "execute_result"
    }
   ],
   "source": [
    "cities = (\"A\", \"B\", \"C\", \"D\", \"E\", \"F\", \"G\", \"H\", \"I\", \"J\")\n",
    "cities"
   ]
  },
  {
   "cell_type": "code",
   "execution_count": 155,
   "metadata": {},
   "outputs": [
    {
     "data": {
      "text/plain": [
       "[44548, 96501, 70587, 87757, 69449, 57565, 108617, 90662, 73915, 57805]"
      ]
     },
     "execution_count": 155,
     "metadata": {},
     "output_type": "execute_result"
    }
   ],
   "source": [
    "population = sample(range(30000, 120000), 10)\n",
    "population"
   ]
  },
  {
   "cell_type": "code",
   "execution_count": 156,
   "metadata": {},
   "outputs": [
    {
     "data": {
      "text/plain": [
       "['medium',\n",
       " 'large',\n",
       " 'large',\n",
       " 'large',\n",
       " 'medium',\n",
       " 'medium',\n",
       " 'large',\n",
       " 'large',\n",
       " 'large',\n",
       " 'medium']"
      ]
     },
     "execution_count": 156,
     "metadata": {},
     "output_type": "execute_result"
    }
   ],
   "source": [
    "citysize = [\"large\" if x >= 70000 else \"medium\" for x in population]\n",
    "citysize"
   ]
  },
  {
   "cell_type": "code",
   "execution_count": 157,
   "metadata": {},
   "outputs": [
    {
     "data": {
      "text/plain": [
       "(-131.57904542899945, -16.254829326949647)"
      ]
     },
     "execution_count": 157,
     "metadata": {},
     "output_type": "execute_result"
    }
   ],
   "source": [
    "df = pd.DataFrame({\n",
    "    \"City\":cities, \n",
    "    \"Pop\":population, \n",
    "    \"Citysize\":citysize,\n",
    "    \"Latitude\": [geom[0] for i in geom],\n",
    "    \"Longitude\": [geom[1] for i in geom]\n",
    "})\n",
    "\n",
    "\n",
    "df.head(2)"
   ]
  },
  {
   "cell_type": "code",
   "execution_count": 158,
   "metadata": {},
   "outputs": [
    {
     "data": {
      "text/html": [
       "<div>\n",
       "<style scoped>\n",
       "    .dataframe tbody tr th:only-of-type {\n",
       "        vertical-align: middle;\n",
       "    }\n",
       "\n",
       "    .dataframe tbody tr th {\n",
       "        vertical-align: top;\n",
       "    }\n",
       "\n",
       "    .dataframe thead th {\n",
       "        text-align: right;\n",
       "    }\n",
       "</style>\n",
       "<table border=\"1\" class=\"dataframe\">\n",
       "  <thead>\n",
       "    <tr style=\"text-align: right;\">\n",
       "      <th></th>\n",
       "      <th>City</th>\n",
       "      <th>Pop</th>\n",
       "      <th>Citysize</th>\n",
       "      <th>Latitude</th>\n",
       "      <th>Longitude</th>\n",
       "    </tr>\n",
       "  </thead>\n",
       "  <tbody>\n",
       "    <tr>\n",
       "      <th>0</th>\n",
       "      <td>A</td>\n",
       "      <td>85817</td>\n",
       "      <td>large</td>\n",
       "      <td>(46.678777419951615, 12.103658046869043)</td>\n",
       "      <td>(-100.25404920236322, 0.5816799340657042)</td>\n",
       "    </tr>\n",
       "    <tr>\n",
       "      <th>1</th>\n",
       "      <td>B</td>\n",
       "      <td>69495</td>\n",
       "      <td>medium</td>\n",
       "      <td>(46.678777419951615, 12.103658046869043)</td>\n",
       "      <td>(-100.25404920236322, 0.5816799340657042)</td>\n",
       "    </tr>\n",
       "    <tr>\n",
       "      <th>2</th>\n",
       "      <td>C</td>\n",
       "      <td>37841</td>\n",
       "      <td>medium</td>\n",
       "      <td>(46.678777419951615, 12.103658046869043)</td>\n",
       "      <td>(-100.25404920236322, 0.5816799340657042)</td>\n",
       "    </tr>\n",
       "    <tr>\n",
       "      <th>3</th>\n",
       "      <td>D</td>\n",
       "      <td>85706</td>\n",
       "      <td>large</td>\n",
       "      <td>(46.678777419951615, 12.103658046869043)</td>\n",
       "      <td>(-100.25404920236322, 0.5816799340657042)</td>\n",
       "    </tr>\n",
       "    <tr>\n",
       "      <th>4</th>\n",
       "      <td>E</td>\n",
       "      <td>56471</td>\n",
       "      <td>medium</td>\n",
       "      <td>(46.678777419951615, 12.103658046869043)</td>\n",
       "      <td>(-100.25404920236322, 0.5816799340657042)</td>\n",
       "    </tr>\n",
       "    <tr>\n",
       "      <th>5</th>\n",
       "      <td>F</td>\n",
       "      <td>71885</td>\n",
       "      <td>large</td>\n",
       "      <td>(46.678777419951615, 12.103658046869043)</td>\n",
       "      <td>(-100.25404920236322, 0.5816799340657042)</td>\n",
       "    </tr>\n",
       "    <tr>\n",
       "      <th>6</th>\n",
       "      <td>G</td>\n",
       "      <td>106119</td>\n",
       "      <td>large</td>\n",
       "      <td>(46.678777419951615, 12.103658046869043)</td>\n",
       "      <td>(-100.25404920236322, 0.5816799340657042)</td>\n",
       "    </tr>\n",
       "    <tr>\n",
       "      <th>7</th>\n",
       "      <td>H</td>\n",
       "      <td>105256</td>\n",
       "      <td>large</td>\n",
       "      <td>(46.678777419951615, 12.103658046869043)</td>\n",
       "      <td>(-100.25404920236322, 0.5816799340657042)</td>\n",
       "    </tr>\n",
       "    <tr>\n",
       "      <th>8</th>\n",
       "      <td>I</td>\n",
       "      <td>30912</td>\n",
       "      <td>medium</td>\n",
       "      <td>(46.678777419951615, 12.103658046869043)</td>\n",
       "      <td>(-100.25404920236322, 0.5816799340657042)</td>\n",
       "    </tr>\n",
       "    <tr>\n",
       "      <th>9</th>\n",
       "      <td>J</td>\n",
       "      <td>51059</td>\n",
       "      <td>medium</td>\n",
       "      <td>(46.678777419951615, 12.103658046869043)</td>\n",
       "      <td>(-100.25404920236322, 0.5816799340657042)</td>\n",
       "    </tr>\n",
       "  </tbody>\n",
       "</table>\n",
       "</div>"
      ],
      "text/plain": [
       "  City     Pop Citysize                                  Latitude  \\\n",
       "0    A   85817    large  (46.678777419951615, 12.103658046869043)   \n",
       "1    B   69495   medium  (46.678777419951615, 12.103658046869043)   \n",
       "2    C   37841   medium  (46.678777419951615, 12.103658046869043)   \n",
       "3    D   85706    large  (46.678777419951615, 12.103658046869043)   \n",
       "4    E   56471   medium  (46.678777419951615, 12.103658046869043)   \n",
       "5    F   71885    large  (46.678777419951615, 12.103658046869043)   \n",
       "6    G  106119    large  (46.678777419951615, 12.103658046869043)   \n",
       "7    H  105256    large  (46.678777419951615, 12.103658046869043)   \n",
       "8    I   30912   medium  (46.678777419951615, 12.103658046869043)   \n",
       "9    J   51059   medium  (46.678777419951615, 12.103658046869043)   \n",
       "\n",
       "                                   Longitude  \n",
       "0  (-100.25404920236322, 0.5816799340657042)  \n",
       "1  (-100.25404920236322, 0.5816799340657042)  \n",
       "2  (-100.25404920236322, 0.5816799340657042)  \n",
       "3  (-100.25404920236322, 0.5816799340657042)  \n",
       "4  (-100.25404920236322, 0.5816799340657042)  \n",
       "5  (-100.25404920236322, 0.5816799340657042)  \n",
       "6  (-100.25404920236322, 0.5816799340657042)  \n",
       "7  (-100.25404920236322, 0.5816799340657042)  \n",
       "8  (-100.25404920236322, 0.5816799340657042)  \n",
       "9  (-100.25404920236322, 0.5816799340657042)  "
      ]
     },
     "execution_count": 158,
     "metadata": {},
     "output_type": "execute_result"
    }
   ],
   "source": [
    "df"
   ]
  },
  {
   "cell_type": "code",
   "execution_count": 159,
   "metadata": {},
   "outputs": [
    {
     "data": {
      "text/plain": [
       "pandas.core.frame.DataFrame"
      ]
     },
     "execution_count": 159,
     "metadata": {},
     "output_type": "execute_result"
    }
   ],
   "source": [
    "type(df)"
   ]
  },
  {
   "cell_type": "code",
   "execution_count": null,
   "metadata": {},
   "outputs": [],
   "source": []
  },
  {
   "cell_type": "code",
   "execution_count": null,
   "metadata": {},
   "outputs": [],
   "source": []
  },
  {
   "cell_type": "code",
   "execution_count": null,
   "metadata": {},
   "outputs": [],
   "source": []
  },
  {
   "cell_type": "code",
   "execution_count": null,
   "metadata": {},
   "outputs": [],
   "source": []
  },
  {
   "cell_type": "code",
   "execution_count": null,
   "metadata": {},
   "outputs": [],
   "source": []
  }
 ],
 "metadata": {
  "kernelspec": {
   "display_name": "Python 3",
   "language": "python",
   "name": "python3"
  },
  "language_info": {
   "codemirror_mode": {
    "name": "ipython",
    "version": 3
   },
   "file_extension": ".py",
   "mimetype": "text/x-python",
   "name": "python",
   "nbconvert_exporter": "python",
   "pygments_lexer": "ipython3",
   "version": "3.12.4"
  }
 },
 "nbformat": 4,
 "nbformat_minor": 2
}
